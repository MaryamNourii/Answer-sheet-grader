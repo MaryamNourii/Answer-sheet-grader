{
  "cells": [
    {
      "cell_type": "markdown",
      "metadata": {
        "id": "view-in-github",
        "colab_type": "text"
      },
      "source": [
        "<a href=\"https://colab.research.google.com/github/MaryamNourii/Answer-sheet-grader/blob/main/RS_Assistment2017_.ipynb\" target=\"_parent\"><img src=\"https://colab.research.google.com/assets/colab-badge.svg\" alt=\"Open In Colab\"/></a>"
      ]
    },
    {
      "cell_type": "code",
      "execution_count": null,
      "metadata": {
        "id": "B9TI3b5bp76f"
      },
      "outputs": [],
      "source": [
        "!pip install EduData"
      ]
    },
    {
      "cell_type": "code",
      "execution_count": 2,
      "metadata": {
        "colab": {
          "base_uri": "https://localhost:8080/"
        },
        "id": "FSh-liS4qBy-",
        "outputId": "ae01abd6-ef31-4e6b-f5c5-b9bf6d4ae61a"
      },
      "outputs": [
        {
          "output_type": "stream",
          "name": "stdout",
          "text": [
            "downloader, INFO http://base.ustc.edu.cn/data/ASSISTment/anonymized_full_release_competition_dataset.zip is saved as /content/assistment-2017/anonymized_full_release_competition_dataset.zip\n",
            "Downloading /content/assistment-2017/anonymized_full_release_competition_dataset.zip 100.00%: 65.1MB | 65.1MB\n",
            "downloader, INFO /content/assistment-2017/anonymized_full_release_competition_dataset.zip is unzip to /content/assistment-2017/anonymized_full_release_competition_dataset\n",
            "/content/assistment-2017/anonymized_full_release_competition_dataset\n"
          ]
        }
      ],
      "source": [
        "!edudata download assistment-2017 /content/assistment-2017"
      ]
    },
    {
      "cell_type": "code",
      "execution_count": 3,
      "metadata": {
        "id": "B_TFz0xSqEZA"
      },
      "outputs": [],
      "source": [
        "!unzip -qx /content/assistment-2017/anonymized_full_release_competition_dataset.zip -d ass"
      ]
    },
    {
      "cell_type": "code",
      "execution_count": 4,
      "metadata": {
        "id": "hfsYdkZMqIhx"
      },
      "outputs": [],
      "source": [
        "import numpy as np\n",
        "import pandas as pd\n",
        "from sklearn.preprocessing import LabelEncoder\n",
        "from keras.layers import Input, Dense, LSTM, Bidirectional, TimeDistributed\n",
        "from keras.models import Model\n",
        "from sklearn.model_selection import train_test_split\n",
        "from sklearn.preprocessing import LabelEncoder\n",
        "from keras.optimizers import Adam, schedules, SGD\n",
        "from keras.metrics import AUC"
      ]
    },
    {
      "cell_type": "code",
      "execution_count": 5,
      "metadata": {
        "colab": {
          "base_uri": "https://localhost:8080/",
          "height": 523
        },
        "id": "0dLlQ7gTqGlC",
        "outputId": "7871b3d7-c787-4ffe-802a-c85be6ceb2fa"
      },
      "outputs": [
        {
          "output_type": "execute_result",
          "data": {
            "text/plain": [
              "        studentId  MiddleSchoolId InferredGender SY ASSISTments Usage  \\\n",
              "0               8               2           Male            2004-2005   \n",
              "1               8               2           Male            2004-2005   \n",
              "2               8               2           Male            2004-2005   \n",
              "3               8               2           Male            2004-2005   \n",
              "4               8               2           Male            2004-2005   \n",
              "...           ...             ...            ...                  ...   \n",
              "942811       7783               1            NaN            2005-2006   \n",
              "942812       7783               1            NaN            2005-2006   \n",
              "942813       7783               1            NaN            2005-2006   \n",
              "942814       7783               1            NaN            2005-2006   \n",
              "942815       7783               1            NaN            2005-2006   \n",
              "\n",
              "         AveKnow  AveCarelessness  AveCorrect  NumActions  AveResBored  \\\n",
              "0       0.352416         0.183276    0.483902        1056     0.208389   \n",
              "1       0.352416         0.183276    0.483902        1056     0.208389   \n",
              "2       0.352416         0.183276    0.483902        1056     0.208389   \n",
              "3       0.352416         0.183276    0.483902        1056     0.208389   \n",
              "4       0.352416         0.183276    0.483902        1056     0.208389   \n",
              "...          ...              ...         ...         ...          ...   \n",
              "942811  0.210902         0.094888    0.456522         276     0.271812   \n",
              "942812  0.210902         0.094888    0.456522         276     0.271812   \n",
              "942813  0.210902         0.094888    0.456522         276     0.271812   \n",
              "942814  0.210902         0.094888    0.456522         276     0.271812   \n",
              "942815  0.210902         0.094888    0.456522         276     0.271812   \n",
              "\n",
              "        AveResEngcon  ...  RES_CONFUSED  RES_FRUSTRATED  RES_OFFTASK  \\\n",
              "0           0.679126  ...      0.000000        0.000000     0.785585   \n",
              "1           0.679126  ...      0.887452        0.000000     0.468252   \n",
              "2           0.679126  ...      0.887452        0.000000     0.468252   \n",
              "3           0.679126  ...      0.000000        0.000000     0.108417   \n",
              "4           0.679126  ...      0.000000        0.000000     0.108417   \n",
              "...              ...  ...           ...             ...          ...   \n",
              "942811      0.611678  ...      0.000000        0.000000     0.122595   \n",
              "942812      0.611678  ...      0.633474        0.000000     0.122595   \n",
              "942813      0.611678  ...      0.000000        0.000000     0.122595   \n",
              "942814      0.611678  ...      0.000000        0.000000     0.122595   \n",
              "942815      0.611678  ...      0.000000        0.009561     0.122595   \n",
              "\n",
              "        RES_GAMING         Ln-1           Ln  MCAS Enrolled  Selective  isSTEM  \n",
              "0         0.000264         0.13  0.061190409    45        0          0     NaN  \n",
              "1         0.001483  0.061190409  0.213509945    45        0          0     NaN  \n",
              "2         0.001483        0.116  0.033305768    45        0          0     NaN  \n",
              "3         0.010665        0.116  0.033305768    45        0          0     NaN  \n",
              "4         0.010665  0.033305768  0.118385889    45        0          0     NaN  \n",
              "...            ...          ...          ...   ...      ...        ...     ...  \n",
              "942811    0.000092  0.054517257  0.053783108    28        1          0     NaN  \n",
              "942812    0.002815  0.053783108  0.053673232    28        1          0     NaN  \n",
              "942813    0.101184  0.053783108  0.053673232    28        1          0     NaN  \n",
              "942814    0.101184  0.053783108  0.053673232    28        1          0     NaN  \n",
              "942815    0.010665  0.780148343  0.918158873    28        1          0     NaN  \n",
              "\n",
              "[942816 rows x 82 columns]"
            ],
            "text/html": [
              "\n",
              "  <div id=\"df-0a440b76-b588-4e8e-a42c-6cf979ca87a5\">\n",
              "    <div class=\"colab-df-container\">\n",
              "      <div>\n",
              "<style scoped>\n",
              "    .dataframe tbody tr th:only-of-type {\n",
              "        vertical-align: middle;\n",
              "    }\n",
              "\n",
              "    .dataframe tbody tr th {\n",
              "        vertical-align: top;\n",
              "    }\n",
              "\n",
              "    .dataframe thead th {\n",
              "        text-align: right;\n",
              "    }\n",
              "</style>\n",
              "<table border=\"1\" class=\"dataframe\">\n",
              "  <thead>\n",
              "    <tr style=\"text-align: right;\">\n",
              "      <th></th>\n",
              "      <th>studentId</th>\n",
              "      <th>MiddleSchoolId</th>\n",
              "      <th>InferredGender</th>\n",
              "      <th>SY ASSISTments Usage</th>\n",
              "      <th>AveKnow</th>\n",
              "      <th>AveCarelessness</th>\n",
              "      <th>AveCorrect</th>\n",
              "      <th>NumActions</th>\n",
              "      <th>AveResBored</th>\n",
              "      <th>AveResEngcon</th>\n",
              "      <th>...</th>\n",
              "      <th>RES_CONFUSED</th>\n",
              "      <th>RES_FRUSTRATED</th>\n",
              "      <th>RES_OFFTASK</th>\n",
              "      <th>RES_GAMING</th>\n",
              "      <th>Ln-1</th>\n",
              "      <th>Ln</th>\n",
              "      <th>MCAS</th>\n",
              "      <th>Enrolled</th>\n",
              "      <th>Selective</th>\n",
              "      <th>isSTEM</th>\n",
              "    </tr>\n",
              "  </thead>\n",
              "  <tbody>\n",
              "    <tr>\n",
              "      <th>0</th>\n",
              "      <td>8</td>\n",
              "      <td>2</td>\n",
              "      <td>Male</td>\n",
              "      <td>2004-2005</td>\n",
              "      <td>0.352416</td>\n",
              "      <td>0.183276</td>\n",
              "      <td>0.483902</td>\n",
              "      <td>1056</td>\n",
              "      <td>0.208389</td>\n",
              "      <td>0.679126</td>\n",
              "      <td>...</td>\n",
              "      <td>0.000000</td>\n",
              "      <td>0.000000</td>\n",
              "      <td>0.785585</td>\n",
              "      <td>0.000264</td>\n",
              "      <td>0.13</td>\n",
              "      <td>0.061190409</td>\n",
              "      <td>45</td>\n",
              "      <td>0</td>\n",
              "      <td>0</td>\n",
              "      <td>NaN</td>\n",
              "    </tr>\n",
              "    <tr>\n",
              "      <th>1</th>\n",
              "      <td>8</td>\n",
              "      <td>2</td>\n",
              "      <td>Male</td>\n",
              "      <td>2004-2005</td>\n",
              "      <td>0.352416</td>\n",
              "      <td>0.183276</td>\n",
              "      <td>0.483902</td>\n",
              "      <td>1056</td>\n",
              "      <td>0.208389</td>\n",
              "      <td>0.679126</td>\n",
              "      <td>...</td>\n",
              "      <td>0.887452</td>\n",
              "      <td>0.000000</td>\n",
              "      <td>0.468252</td>\n",
              "      <td>0.001483</td>\n",
              "      <td>0.061190409</td>\n",
              "      <td>0.213509945</td>\n",
              "      <td>45</td>\n",
              "      <td>0</td>\n",
              "      <td>0</td>\n",
              "      <td>NaN</td>\n",
              "    </tr>\n",
              "    <tr>\n",
              "      <th>2</th>\n",
              "      <td>8</td>\n",
              "      <td>2</td>\n",
              "      <td>Male</td>\n",
              "      <td>2004-2005</td>\n",
              "      <td>0.352416</td>\n",
              "      <td>0.183276</td>\n",
              "      <td>0.483902</td>\n",
              "      <td>1056</td>\n",
              "      <td>0.208389</td>\n",
              "      <td>0.679126</td>\n",
              "      <td>...</td>\n",
              "      <td>0.887452</td>\n",
              "      <td>0.000000</td>\n",
              "      <td>0.468252</td>\n",
              "      <td>0.001483</td>\n",
              "      <td>0.116</td>\n",
              "      <td>0.033305768</td>\n",
              "      <td>45</td>\n",
              "      <td>0</td>\n",
              "      <td>0</td>\n",
              "      <td>NaN</td>\n",
              "    </tr>\n",
              "    <tr>\n",
              "      <th>3</th>\n",
              "      <td>8</td>\n",
              "      <td>2</td>\n",
              "      <td>Male</td>\n",
              "      <td>2004-2005</td>\n",
              "      <td>0.352416</td>\n",
              "      <td>0.183276</td>\n",
              "      <td>0.483902</td>\n",
              "      <td>1056</td>\n",
              "      <td>0.208389</td>\n",
              "      <td>0.679126</td>\n",
              "      <td>...</td>\n",
              "      <td>0.000000</td>\n",
              "      <td>0.000000</td>\n",
              "      <td>0.108417</td>\n",
              "      <td>0.010665</td>\n",
              "      <td>0.116</td>\n",
              "      <td>0.033305768</td>\n",
              "      <td>45</td>\n",
              "      <td>0</td>\n",
              "      <td>0</td>\n",
              "      <td>NaN</td>\n",
              "    </tr>\n",
              "    <tr>\n",
              "      <th>4</th>\n",
              "      <td>8</td>\n",
              "      <td>2</td>\n",
              "      <td>Male</td>\n",
              "      <td>2004-2005</td>\n",
              "      <td>0.352416</td>\n",
              "      <td>0.183276</td>\n",
              "      <td>0.483902</td>\n",
              "      <td>1056</td>\n",
              "      <td>0.208389</td>\n",
              "      <td>0.679126</td>\n",
              "      <td>...</td>\n",
              "      <td>0.000000</td>\n",
              "      <td>0.000000</td>\n",
              "      <td>0.108417</td>\n",
              "      <td>0.010665</td>\n",
              "      <td>0.033305768</td>\n",
              "      <td>0.118385889</td>\n",
              "      <td>45</td>\n",
              "      <td>0</td>\n",
              "      <td>0</td>\n",
              "      <td>NaN</td>\n",
              "    </tr>\n",
              "    <tr>\n",
              "      <th>...</th>\n",
              "      <td>...</td>\n",
              "      <td>...</td>\n",
              "      <td>...</td>\n",
              "      <td>...</td>\n",
              "      <td>...</td>\n",
              "      <td>...</td>\n",
              "      <td>...</td>\n",
              "      <td>...</td>\n",
              "      <td>...</td>\n",
              "      <td>...</td>\n",
              "      <td>...</td>\n",
              "      <td>...</td>\n",
              "      <td>...</td>\n",
              "      <td>...</td>\n",
              "      <td>...</td>\n",
              "      <td>...</td>\n",
              "      <td>...</td>\n",
              "      <td>...</td>\n",
              "      <td>...</td>\n",
              "      <td>...</td>\n",
              "      <td>...</td>\n",
              "    </tr>\n",
              "    <tr>\n",
              "      <th>942811</th>\n",
              "      <td>7783</td>\n",
              "      <td>1</td>\n",
              "      <td>NaN</td>\n",
              "      <td>2005-2006</td>\n",
              "      <td>0.210902</td>\n",
              "      <td>0.094888</td>\n",
              "      <td>0.456522</td>\n",
              "      <td>276</td>\n",
              "      <td>0.271812</td>\n",
              "      <td>0.611678</td>\n",
              "      <td>...</td>\n",
              "      <td>0.000000</td>\n",
              "      <td>0.000000</td>\n",
              "      <td>0.122595</td>\n",
              "      <td>0.000092</td>\n",
              "      <td>0.054517257</td>\n",
              "      <td>0.053783108</td>\n",
              "      <td>28</td>\n",
              "      <td>1</td>\n",
              "      <td>0</td>\n",
              "      <td>NaN</td>\n",
              "    </tr>\n",
              "    <tr>\n",
              "      <th>942812</th>\n",
              "      <td>7783</td>\n",
              "      <td>1</td>\n",
              "      <td>NaN</td>\n",
              "      <td>2005-2006</td>\n",
              "      <td>0.210902</td>\n",
              "      <td>0.094888</td>\n",
              "      <td>0.456522</td>\n",
              "      <td>276</td>\n",
              "      <td>0.271812</td>\n",
              "      <td>0.611678</td>\n",
              "      <td>...</td>\n",
              "      <td>0.633474</td>\n",
              "      <td>0.000000</td>\n",
              "      <td>0.122595</td>\n",
              "      <td>0.002815</td>\n",
              "      <td>0.053783108</td>\n",
              "      <td>0.053673232</td>\n",
              "      <td>28</td>\n",
              "      <td>1</td>\n",
              "      <td>0</td>\n",
              "      <td>NaN</td>\n",
              "    </tr>\n",
              "    <tr>\n",
              "      <th>942813</th>\n",
              "      <td>7783</td>\n",
              "      <td>1</td>\n",
              "      <td>NaN</td>\n",
              "      <td>2005-2006</td>\n",
              "      <td>0.210902</td>\n",
              "      <td>0.094888</td>\n",
              "      <td>0.456522</td>\n",
              "      <td>276</td>\n",
              "      <td>0.271812</td>\n",
              "      <td>0.611678</td>\n",
              "      <td>...</td>\n",
              "      <td>0.000000</td>\n",
              "      <td>0.000000</td>\n",
              "      <td>0.122595</td>\n",
              "      <td>0.101184</td>\n",
              "      <td>0.053783108</td>\n",
              "      <td>0.053673232</td>\n",
              "      <td>28</td>\n",
              "      <td>1</td>\n",
              "      <td>0</td>\n",
              "      <td>NaN</td>\n",
              "    </tr>\n",
              "    <tr>\n",
              "      <th>942814</th>\n",
              "      <td>7783</td>\n",
              "      <td>1</td>\n",
              "      <td>NaN</td>\n",
              "      <td>2005-2006</td>\n",
              "      <td>0.210902</td>\n",
              "      <td>0.094888</td>\n",
              "      <td>0.456522</td>\n",
              "      <td>276</td>\n",
              "      <td>0.271812</td>\n",
              "      <td>0.611678</td>\n",
              "      <td>...</td>\n",
              "      <td>0.000000</td>\n",
              "      <td>0.000000</td>\n",
              "      <td>0.122595</td>\n",
              "      <td>0.101184</td>\n",
              "      <td>0.053783108</td>\n",
              "      <td>0.053673232</td>\n",
              "      <td>28</td>\n",
              "      <td>1</td>\n",
              "      <td>0</td>\n",
              "      <td>NaN</td>\n",
              "    </tr>\n",
              "    <tr>\n",
              "      <th>942815</th>\n",
              "      <td>7783</td>\n",
              "      <td>1</td>\n",
              "      <td>NaN</td>\n",
              "      <td>2005-2006</td>\n",
              "      <td>0.210902</td>\n",
              "      <td>0.094888</td>\n",
              "      <td>0.456522</td>\n",
              "      <td>276</td>\n",
              "      <td>0.271812</td>\n",
              "      <td>0.611678</td>\n",
              "      <td>...</td>\n",
              "      <td>0.000000</td>\n",
              "      <td>0.009561</td>\n",
              "      <td>0.122595</td>\n",
              "      <td>0.010665</td>\n",
              "      <td>0.780148343</td>\n",
              "      <td>0.918158873</td>\n",
              "      <td>28</td>\n",
              "      <td>1</td>\n",
              "      <td>0</td>\n",
              "      <td>NaN</td>\n",
              "    </tr>\n",
              "  </tbody>\n",
              "</table>\n",
              "<p>942816 rows × 82 columns</p>\n",
              "</div>\n",
              "      <button class=\"colab-df-convert\" onclick=\"convertToInteractive('df-0a440b76-b588-4e8e-a42c-6cf979ca87a5')\"\n",
              "              title=\"Convert this dataframe to an interactive table.\"\n",
              "              style=\"display:none;\">\n",
              "        \n",
              "  <svg xmlns=\"http://www.w3.org/2000/svg\" height=\"24px\"viewBox=\"0 0 24 24\"\n",
              "       width=\"24px\">\n",
              "    <path d=\"M0 0h24v24H0V0z\" fill=\"none\"/>\n",
              "    <path d=\"M18.56 5.44l.94 2.06.94-2.06 2.06-.94-2.06-.94-.94-2.06-.94 2.06-2.06.94zm-11 1L8.5 8.5l.94-2.06 2.06-.94-2.06-.94L8.5 2.5l-.94 2.06-2.06.94zm10 10l.94 2.06.94-2.06 2.06-.94-2.06-.94-.94-2.06-.94 2.06-2.06.94z\"/><path d=\"M17.41 7.96l-1.37-1.37c-.4-.4-.92-.59-1.43-.59-.52 0-1.04.2-1.43.59L10.3 9.45l-7.72 7.72c-.78.78-.78 2.05 0 2.83L4 21.41c.39.39.9.59 1.41.59.51 0 1.02-.2 1.41-.59l7.78-7.78 2.81-2.81c.8-.78.8-2.07 0-2.86zM5.41 20L4 18.59l7.72-7.72 1.47 1.35L5.41 20z\"/>\n",
              "  </svg>\n",
              "      </button>\n",
              "      \n",
              "  <style>\n",
              "    .colab-df-container {\n",
              "      display:flex;\n",
              "      flex-wrap:wrap;\n",
              "      gap: 12px;\n",
              "    }\n",
              "\n",
              "    .colab-df-convert {\n",
              "      background-color: #E8F0FE;\n",
              "      border: none;\n",
              "      border-radius: 50%;\n",
              "      cursor: pointer;\n",
              "      display: none;\n",
              "      fill: #1967D2;\n",
              "      height: 32px;\n",
              "      padding: 0 0 0 0;\n",
              "      width: 32px;\n",
              "    }\n",
              "\n",
              "    .colab-df-convert:hover {\n",
              "      background-color: #E2EBFA;\n",
              "      box-shadow: 0px 1px 2px rgba(60, 64, 67, 0.3), 0px 1px 3px 1px rgba(60, 64, 67, 0.15);\n",
              "      fill: #174EA6;\n",
              "    }\n",
              "\n",
              "    [theme=dark] .colab-df-convert {\n",
              "      background-color: #3B4455;\n",
              "      fill: #D2E3FC;\n",
              "    }\n",
              "\n",
              "    [theme=dark] .colab-df-convert:hover {\n",
              "      background-color: #434B5C;\n",
              "      box-shadow: 0px 1px 3px 1px rgba(0, 0, 0, 0.15);\n",
              "      filter: drop-shadow(0px 1px 2px rgba(0, 0, 0, 0.3));\n",
              "      fill: #FFFFFF;\n",
              "    }\n",
              "  </style>\n",
              "\n",
              "      <script>\n",
              "        const buttonEl =\n",
              "          document.querySelector('#df-0a440b76-b588-4e8e-a42c-6cf979ca87a5 button.colab-df-convert');\n",
              "        buttonEl.style.display =\n",
              "          google.colab.kernel.accessAllowed ? 'block' : 'none';\n",
              "\n",
              "        async function convertToInteractive(key) {\n",
              "          const element = document.querySelector('#df-0a440b76-b588-4e8e-a42c-6cf979ca87a5');\n",
              "          const dataTable =\n",
              "            await google.colab.kernel.invokeFunction('convertToInteractive',\n",
              "                                                     [key], {});\n",
              "          if (!dataTable) return;\n",
              "\n",
              "          const docLinkHtml = 'Like what you see? Visit the ' +\n",
              "            '<a target=\"_blank\" href=https://colab.research.google.com/notebooks/data_table.ipynb>data table notebook</a>'\n",
              "            + ' to learn more about interactive tables.';\n",
              "          element.innerHTML = '';\n",
              "          dataTable['output_type'] = 'display_data';\n",
              "          await google.colab.output.renderOutput(dataTable, element);\n",
              "          const docLink = document.createElement('div');\n",
              "          docLink.innerHTML = docLinkHtml;\n",
              "          element.appendChild(docLink);\n",
              "        }\n",
              "      </script>\n",
              "    </div>\n",
              "  </div>\n",
              "  "
            ]
          },
          "metadata": {},
          "execution_count": 5
        }
      ],
      "source": [
        "path = \"/content/ass/anonymized_full_release_competition_dataset.csv\"\n",
        "df = pd.read_csv(path, encoding = \"ISO-8859-15\",low_memory=False)\n",
        "df"
      ]
    },
    {
      "cell_type": "code",
      "execution_count": 6,
      "metadata": {
        "colab": {
          "base_uri": "https://localhost:8080/",
          "height": 424
        },
        "id": "kUs4BDVFqdXC",
        "outputId": "ac547f69-1d4f-4700-94f8-2df3d5ad79b8"
      },
      "outputs": [
        {
          "output_type": "execute_result",
          "data": {
            "text/plain": [
              "        studentId                                     skill  problemId  \\\n",
              "0               8           properties-of-geometric-figures       1118   \n",
              "1               8           properties-of-geometric-figures       1119   \n",
              "2               8  sum-of-interior-angles-more-than-3-sides       1120   \n",
              "3               8  sum-of-interior-angles-more-than-3-sides       1120   \n",
              "4               8  sum-of-interior-angles-more-than-3-sides       1121   \n",
              "...           ...                                       ...        ...   \n",
              "942811       7783                                      mean       2272   \n",
              "942812       7783                                      mean       2273   \n",
              "942813       7783                                      mean       2273   \n",
              "942814       7783                                      mean       2273   \n",
              "942815       7783                      multiplying-decimals        836   \n",
              "\n",
              "        correct  \n",
              "0             0  \n",
              "1             1  \n",
              "2             0  \n",
              "3             0  \n",
              "4             1  \n",
              "...         ...  \n",
              "942811        1  \n",
              "942812        0  \n",
              "942813        0  \n",
              "942814        1  \n",
              "942815        1  \n",
              "\n",
              "[942816 rows x 4 columns]"
            ],
            "text/html": [
              "\n",
              "  <div id=\"df-55daf0a3-7bf4-4cbf-93d3-061a72ee52b4\">\n",
              "    <div class=\"colab-df-container\">\n",
              "      <div>\n",
              "<style scoped>\n",
              "    .dataframe tbody tr th:only-of-type {\n",
              "        vertical-align: middle;\n",
              "    }\n",
              "\n",
              "    .dataframe tbody tr th {\n",
              "        vertical-align: top;\n",
              "    }\n",
              "\n",
              "    .dataframe thead th {\n",
              "        text-align: right;\n",
              "    }\n",
              "</style>\n",
              "<table border=\"1\" class=\"dataframe\">\n",
              "  <thead>\n",
              "    <tr style=\"text-align: right;\">\n",
              "      <th></th>\n",
              "      <th>studentId</th>\n",
              "      <th>skill</th>\n",
              "      <th>problemId</th>\n",
              "      <th>correct</th>\n",
              "    </tr>\n",
              "  </thead>\n",
              "  <tbody>\n",
              "    <tr>\n",
              "      <th>0</th>\n",
              "      <td>8</td>\n",
              "      <td>properties-of-geometric-figures</td>\n",
              "      <td>1118</td>\n",
              "      <td>0</td>\n",
              "    </tr>\n",
              "    <tr>\n",
              "      <th>1</th>\n",
              "      <td>8</td>\n",
              "      <td>properties-of-geometric-figures</td>\n",
              "      <td>1119</td>\n",
              "      <td>1</td>\n",
              "    </tr>\n",
              "    <tr>\n",
              "      <th>2</th>\n",
              "      <td>8</td>\n",
              "      <td>sum-of-interior-angles-more-than-3-sides</td>\n",
              "      <td>1120</td>\n",
              "      <td>0</td>\n",
              "    </tr>\n",
              "    <tr>\n",
              "      <th>3</th>\n",
              "      <td>8</td>\n",
              "      <td>sum-of-interior-angles-more-than-3-sides</td>\n",
              "      <td>1120</td>\n",
              "      <td>0</td>\n",
              "    </tr>\n",
              "    <tr>\n",
              "      <th>4</th>\n",
              "      <td>8</td>\n",
              "      <td>sum-of-interior-angles-more-than-3-sides</td>\n",
              "      <td>1121</td>\n",
              "      <td>1</td>\n",
              "    </tr>\n",
              "    <tr>\n",
              "      <th>...</th>\n",
              "      <td>...</td>\n",
              "      <td>...</td>\n",
              "      <td>...</td>\n",
              "      <td>...</td>\n",
              "    </tr>\n",
              "    <tr>\n",
              "      <th>942811</th>\n",
              "      <td>7783</td>\n",
              "      <td>mean</td>\n",
              "      <td>2272</td>\n",
              "      <td>1</td>\n",
              "    </tr>\n",
              "    <tr>\n",
              "      <th>942812</th>\n",
              "      <td>7783</td>\n",
              "      <td>mean</td>\n",
              "      <td>2273</td>\n",
              "      <td>0</td>\n",
              "    </tr>\n",
              "    <tr>\n",
              "      <th>942813</th>\n",
              "      <td>7783</td>\n",
              "      <td>mean</td>\n",
              "      <td>2273</td>\n",
              "      <td>0</td>\n",
              "    </tr>\n",
              "    <tr>\n",
              "      <th>942814</th>\n",
              "      <td>7783</td>\n",
              "      <td>mean</td>\n",
              "      <td>2273</td>\n",
              "      <td>1</td>\n",
              "    </tr>\n",
              "    <tr>\n",
              "      <th>942815</th>\n",
              "      <td>7783</td>\n",
              "      <td>multiplying-decimals</td>\n",
              "      <td>836</td>\n",
              "      <td>1</td>\n",
              "    </tr>\n",
              "  </tbody>\n",
              "</table>\n",
              "<p>942816 rows × 4 columns</p>\n",
              "</div>\n",
              "      <button class=\"colab-df-convert\" onclick=\"convertToInteractive('df-55daf0a3-7bf4-4cbf-93d3-061a72ee52b4')\"\n",
              "              title=\"Convert this dataframe to an interactive table.\"\n",
              "              style=\"display:none;\">\n",
              "        \n",
              "  <svg xmlns=\"http://www.w3.org/2000/svg\" height=\"24px\"viewBox=\"0 0 24 24\"\n",
              "       width=\"24px\">\n",
              "    <path d=\"M0 0h24v24H0V0z\" fill=\"none\"/>\n",
              "    <path d=\"M18.56 5.44l.94 2.06.94-2.06 2.06-.94-2.06-.94-.94-2.06-.94 2.06-2.06.94zm-11 1L8.5 8.5l.94-2.06 2.06-.94-2.06-.94L8.5 2.5l-.94 2.06-2.06.94zm10 10l.94 2.06.94-2.06 2.06-.94-2.06-.94-.94-2.06-.94 2.06-2.06.94z\"/><path d=\"M17.41 7.96l-1.37-1.37c-.4-.4-.92-.59-1.43-.59-.52 0-1.04.2-1.43.59L10.3 9.45l-7.72 7.72c-.78.78-.78 2.05 0 2.83L4 21.41c.39.39.9.59 1.41.59.51 0 1.02-.2 1.41-.59l7.78-7.78 2.81-2.81c.8-.78.8-2.07 0-2.86zM5.41 20L4 18.59l7.72-7.72 1.47 1.35L5.41 20z\"/>\n",
              "  </svg>\n",
              "      </button>\n",
              "      \n",
              "  <style>\n",
              "    .colab-df-container {\n",
              "      display:flex;\n",
              "      flex-wrap:wrap;\n",
              "      gap: 12px;\n",
              "    }\n",
              "\n",
              "    .colab-df-convert {\n",
              "      background-color: #E8F0FE;\n",
              "      border: none;\n",
              "      border-radius: 50%;\n",
              "      cursor: pointer;\n",
              "      display: none;\n",
              "      fill: #1967D2;\n",
              "      height: 32px;\n",
              "      padding: 0 0 0 0;\n",
              "      width: 32px;\n",
              "    }\n",
              "\n",
              "    .colab-df-convert:hover {\n",
              "      background-color: #E2EBFA;\n",
              "      box-shadow: 0px 1px 2px rgba(60, 64, 67, 0.3), 0px 1px 3px 1px rgba(60, 64, 67, 0.15);\n",
              "      fill: #174EA6;\n",
              "    }\n",
              "\n",
              "    [theme=dark] .colab-df-convert {\n",
              "      background-color: #3B4455;\n",
              "      fill: #D2E3FC;\n",
              "    }\n",
              "\n",
              "    [theme=dark] .colab-df-convert:hover {\n",
              "      background-color: #434B5C;\n",
              "      box-shadow: 0px 1px 3px 1px rgba(0, 0, 0, 0.15);\n",
              "      filter: drop-shadow(0px 1px 2px rgba(0, 0, 0, 0.3));\n",
              "      fill: #FFFFFF;\n",
              "    }\n",
              "  </style>\n",
              "\n",
              "      <script>\n",
              "        const buttonEl =\n",
              "          document.querySelector('#df-55daf0a3-7bf4-4cbf-93d3-061a72ee52b4 button.colab-df-convert');\n",
              "        buttonEl.style.display =\n",
              "          google.colab.kernel.accessAllowed ? 'block' : 'none';\n",
              "\n",
              "        async function convertToInteractive(key) {\n",
              "          const element = document.querySelector('#df-55daf0a3-7bf4-4cbf-93d3-061a72ee52b4');\n",
              "          const dataTable =\n",
              "            await google.colab.kernel.invokeFunction('convertToInteractive',\n",
              "                                                     [key], {});\n",
              "          if (!dataTable) return;\n",
              "\n",
              "          const docLinkHtml = 'Like what you see? Visit the ' +\n",
              "            '<a target=\"_blank\" href=https://colab.research.google.com/notebooks/data_table.ipynb>data table notebook</a>'\n",
              "            + ' to learn more about interactive tables.';\n",
              "          element.innerHTML = '';\n",
              "          dataTable['output_type'] = 'display_data';\n",
              "          await google.colab.output.renderOutput(dataTable, element);\n",
              "          const docLink = document.createElement('div');\n",
              "          docLink.innerHTML = docLinkHtml;\n",
              "          element.appendChild(docLink);\n",
              "        }\n",
              "      </script>\n",
              "    </div>\n",
              "  </div>\n",
              "  "
            ]
          },
          "metadata": {},
          "execution_count": 6
        }
      ],
      "source": [
        "data1 = df[['studentId','skill', 'problemId', 'correct']].copy()\n",
        "data1"
      ]
    },
    {
      "cell_type": "code",
      "source": [
        "data1.groupby('studentId')['problemId'].count().sort_values().groupby(level=0).tail(1)"
      ],
      "metadata": {
        "colab": {
          "base_uri": "https://localhost:8080/"
        },
        "id": "WpCr1LZnJ8lE",
        "outputId": "b1a38b26-e69f-402a-e639-465c4a2a0b58"
      },
      "execution_count": 7,
      "outputs": [
        {
          "output_type": "execute_result",
          "data": {
            "text/plain": [
              "studentId\n",
              "5163       2\n",
              "1868      12\n",
              "1667      12\n",
              "6514      19\n",
              "7296      20\n",
              "        ... \n",
              "5471    2375\n",
              "954     2496\n",
              "1079    2593\n",
              "3609    2742\n",
              "1483    3057\n",
              "Name: problemId, Length: 1709, dtype: int64"
            ]
          },
          "metadata": {},
          "execution_count": 7
        }
      ]
    },
    {
      "cell_type": "code",
      "execution_count": 8,
      "metadata": {
        "colab": {
          "base_uri": "https://localhost:8080/",
          "height": 424
        },
        "id": "PxchrEDZTYbt",
        "outputId": "4ea05eb8-8dd2-4d59-9d82-3d9a82c59ebf"
      },
      "outputs": [
        {
          "output_type": "execute_result",
          "data": {
            "text/plain": [
              "      studentId        skill  problemId  correct\n",
              "0          1483   proportion       1174        1\n",
              "1          1483  square-root       1093        0\n",
              "2          1483  square-root       1094        0\n",
              "3          1483  square-root       1094        0\n",
              "4          1483  square-root       1094        0\n",
              "...         ...          ...        ...      ...\n",
              "3052       1483     discount       1199        0\n",
              "3053       1483     discount       1199        0\n",
              "3054       1483     discount       1199        0\n",
              "3055       1483     discount       1200        1\n",
              "3056       1483         area       1204        1\n",
              "\n",
              "[3057 rows x 4 columns]"
            ],
            "text/html": [
              "\n",
              "  <div id=\"df-c356f563-3696-4e72-be1a-68ad1918f3bc\">\n",
              "    <div class=\"colab-df-container\">\n",
              "      <div>\n",
              "<style scoped>\n",
              "    .dataframe tbody tr th:only-of-type {\n",
              "        vertical-align: middle;\n",
              "    }\n",
              "\n",
              "    .dataframe tbody tr th {\n",
              "        vertical-align: top;\n",
              "    }\n",
              "\n",
              "    .dataframe thead th {\n",
              "        text-align: right;\n",
              "    }\n",
              "</style>\n",
              "<table border=\"1\" class=\"dataframe\">\n",
              "  <thead>\n",
              "    <tr style=\"text-align: right;\">\n",
              "      <th></th>\n",
              "      <th>studentId</th>\n",
              "      <th>skill</th>\n",
              "      <th>problemId</th>\n",
              "      <th>correct</th>\n",
              "    </tr>\n",
              "  </thead>\n",
              "  <tbody>\n",
              "    <tr>\n",
              "      <th>0</th>\n",
              "      <td>1483</td>\n",
              "      <td>proportion</td>\n",
              "      <td>1174</td>\n",
              "      <td>1</td>\n",
              "    </tr>\n",
              "    <tr>\n",
              "      <th>1</th>\n",
              "      <td>1483</td>\n",
              "      <td>square-root</td>\n",
              "      <td>1093</td>\n",
              "      <td>0</td>\n",
              "    </tr>\n",
              "    <tr>\n",
              "      <th>2</th>\n",
              "      <td>1483</td>\n",
              "      <td>square-root</td>\n",
              "      <td>1094</td>\n",
              "      <td>0</td>\n",
              "    </tr>\n",
              "    <tr>\n",
              "      <th>3</th>\n",
              "      <td>1483</td>\n",
              "      <td>square-root</td>\n",
              "      <td>1094</td>\n",
              "      <td>0</td>\n",
              "    </tr>\n",
              "    <tr>\n",
              "      <th>4</th>\n",
              "      <td>1483</td>\n",
              "      <td>square-root</td>\n",
              "      <td>1094</td>\n",
              "      <td>0</td>\n",
              "    </tr>\n",
              "    <tr>\n",
              "      <th>...</th>\n",
              "      <td>...</td>\n",
              "      <td>...</td>\n",
              "      <td>...</td>\n",
              "      <td>...</td>\n",
              "    </tr>\n",
              "    <tr>\n",
              "      <th>3052</th>\n",
              "      <td>1483</td>\n",
              "      <td>discount</td>\n",
              "      <td>1199</td>\n",
              "      <td>0</td>\n",
              "    </tr>\n",
              "    <tr>\n",
              "      <th>3053</th>\n",
              "      <td>1483</td>\n",
              "      <td>discount</td>\n",
              "      <td>1199</td>\n",
              "      <td>0</td>\n",
              "    </tr>\n",
              "    <tr>\n",
              "      <th>3054</th>\n",
              "      <td>1483</td>\n",
              "      <td>discount</td>\n",
              "      <td>1199</td>\n",
              "      <td>0</td>\n",
              "    </tr>\n",
              "    <tr>\n",
              "      <th>3055</th>\n",
              "      <td>1483</td>\n",
              "      <td>discount</td>\n",
              "      <td>1200</td>\n",
              "      <td>1</td>\n",
              "    </tr>\n",
              "    <tr>\n",
              "      <th>3056</th>\n",
              "      <td>1483</td>\n",
              "      <td>area</td>\n",
              "      <td>1204</td>\n",
              "      <td>1</td>\n",
              "    </tr>\n",
              "  </tbody>\n",
              "</table>\n",
              "<p>3057 rows × 4 columns</p>\n",
              "</div>\n",
              "      <button class=\"colab-df-convert\" onclick=\"convertToInteractive('df-c356f563-3696-4e72-be1a-68ad1918f3bc')\"\n",
              "              title=\"Convert this dataframe to an interactive table.\"\n",
              "              style=\"display:none;\">\n",
              "        \n",
              "  <svg xmlns=\"http://www.w3.org/2000/svg\" height=\"24px\"viewBox=\"0 0 24 24\"\n",
              "       width=\"24px\">\n",
              "    <path d=\"M0 0h24v24H0V0z\" fill=\"none\"/>\n",
              "    <path d=\"M18.56 5.44l.94 2.06.94-2.06 2.06-.94-2.06-.94-.94-2.06-.94 2.06-2.06.94zm-11 1L8.5 8.5l.94-2.06 2.06-.94-2.06-.94L8.5 2.5l-.94 2.06-2.06.94zm10 10l.94 2.06.94-2.06 2.06-.94-2.06-.94-.94-2.06-.94 2.06-2.06.94z\"/><path d=\"M17.41 7.96l-1.37-1.37c-.4-.4-.92-.59-1.43-.59-.52 0-1.04.2-1.43.59L10.3 9.45l-7.72 7.72c-.78.78-.78 2.05 0 2.83L4 21.41c.39.39.9.59 1.41.59.51 0 1.02-.2 1.41-.59l7.78-7.78 2.81-2.81c.8-.78.8-2.07 0-2.86zM5.41 20L4 18.59l7.72-7.72 1.47 1.35L5.41 20z\"/>\n",
              "  </svg>\n",
              "      </button>\n",
              "      \n",
              "  <style>\n",
              "    .colab-df-container {\n",
              "      display:flex;\n",
              "      flex-wrap:wrap;\n",
              "      gap: 12px;\n",
              "    }\n",
              "\n",
              "    .colab-df-convert {\n",
              "      background-color: #E8F0FE;\n",
              "      border: none;\n",
              "      border-radius: 50%;\n",
              "      cursor: pointer;\n",
              "      display: none;\n",
              "      fill: #1967D2;\n",
              "      height: 32px;\n",
              "      padding: 0 0 0 0;\n",
              "      width: 32px;\n",
              "    }\n",
              "\n",
              "    .colab-df-convert:hover {\n",
              "      background-color: #E2EBFA;\n",
              "      box-shadow: 0px 1px 2px rgba(60, 64, 67, 0.3), 0px 1px 3px 1px rgba(60, 64, 67, 0.15);\n",
              "      fill: #174EA6;\n",
              "    }\n",
              "\n",
              "    [theme=dark] .colab-df-convert {\n",
              "      background-color: #3B4455;\n",
              "      fill: #D2E3FC;\n",
              "    }\n",
              "\n",
              "    [theme=dark] .colab-df-convert:hover {\n",
              "      background-color: #434B5C;\n",
              "      box-shadow: 0px 1px 3px 1px rgba(0, 0, 0, 0.15);\n",
              "      filter: drop-shadow(0px 1px 2px rgba(0, 0, 0, 0.3));\n",
              "      fill: #FFFFFF;\n",
              "    }\n",
              "  </style>\n",
              "\n",
              "      <script>\n",
              "        const buttonEl =\n",
              "          document.querySelector('#df-c356f563-3696-4e72-be1a-68ad1918f3bc button.colab-df-convert');\n",
              "        buttonEl.style.display =\n",
              "          google.colab.kernel.accessAllowed ? 'block' : 'none';\n",
              "\n",
              "        async function convertToInteractive(key) {\n",
              "          const element = document.querySelector('#df-c356f563-3696-4e72-be1a-68ad1918f3bc');\n",
              "          const dataTable =\n",
              "            await google.colab.kernel.invokeFunction('convertToInteractive',\n",
              "                                                     [key], {});\n",
              "          if (!dataTable) return;\n",
              "\n",
              "          const docLinkHtml = 'Like what you see? Visit the ' +\n",
              "            '<a target=\"_blank\" href=https://colab.research.google.com/notebooks/data_table.ipynb>data table notebook</a>'\n",
              "            + ' to learn more about interactive tables.';\n",
              "          element.innerHTML = '';\n",
              "          dataTable['output_type'] = 'display_data';\n",
              "          await google.colab.output.renderOutput(dataTable, element);\n",
              "          const docLink = document.createElement('div');\n",
              "          docLink.innerHTML = docLinkHtml;\n",
              "          element.appendChild(docLink);\n",
              "        }\n",
              "      </script>\n",
              "    </div>\n",
              "  </div>\n",
              "  "
            ]
          },
          "metadata": {},
          "execution_count": 8
        }
      ],
      "source": [
        "data = data1[data1['studentId']==1483]\n",
        "data.reset_index(inplace=True, drop=True)\n",
        "data"
      ]
    },
    {
      "cell_type": "code",
      "execution_count": 9,
      "metadata": {
        "colab": {
          "base_uri": "https://localhost:8080/"
        },
        "id": "GJBrJcyKqYdH",
        "outputId": "41811237-1020-4219-9bd8-b81b003e21f8"
      },
      "outputs": [
        {
          "output_type": "stream",
          "name": "stderr",
          "text": [
            "<ipython-input-9-9259a7d51b89>:2: SettingWithCopyWarning: \n",
            "A value is trying to be set on a copy of a slice from a DataFrame.\n",
            "Try using .loc[row_indexer,col_indexer] = value instead\n",
            "\n",
            "See the caveats in the documentation: https://pandas.pydata.org/pandas-docs/stable/user_guide/indexing.html#returning-a-view-versus-a-copy\n",
            "  data['skill_index'] = le.fit_transform(data['skill'])\n"
          ]
        },
        {
          "output_type": "execute_result",
          "data": {
            "text/plain": [
              "0       45\n",
              "1       50\n",
              "2       50\n",
              "3       50\n",
              "4       50\n",
              "        ..\n",
              "3052     6\n",
              "3053     6\n",
              "3054     6\n",
              "3055     6\n",
              "3056     2\n",
              "Name: skill_index, Length: 3057, dtype: int64"
            ]
          },
          "metadata": {},
          "execution_count": 9
        }
      ],
      "source": [
        "le = LabelEncoder()\n",
        "data['skill_index'] = le.fit_transform(data['skill'])\n",
        "data['skill_index']"
      ]
    },
    {
      "cell_type": "code",
      "execution_count": 10,
      "metadata": {
        "colab": {
          "base_uri": "https://localhost:8080/"
        },
        "id": "xxxqX8ZTO0ez",
        "outputId": "4180bf27-672a-47e8-e23f-f3833569f27a"
      },
      "outputs": [
        {
          "output_type": "stream",
          "name": "stderr",
          "text": [
            "<ipython-input-10-6a8d5202e8f1>:2: SettingWithCopyWarning: \n",
            "A value is trying to be set on a copy of a slice from a DataFrame.\n",
            "Try using .loc[row_indexer,col_indexer] = value instead\n",
            "\n",
            "See the caveats in the documentation: https://pandas.pydata.org/pandas-docs/stable/user_guide/indexing.html#returning-a-view-versus-a-copy\n",
            "  data['problem_index'] = le.fit_transform(data['problemId'])\n"
          ]
        },
        {
          "output_type": "execute_result",
          "data": {
            "text/plain": [
              "0       629\n",
              "1       594\n",
              "2       595\n",
              "3       595\n",
              "4       595\n",
              "       ... \n",
              "3052    638\n",
              "3053    638\n",
              "3054    638\n",
              "3055    639\n",
              "3056    641\n",
              "Name: problem_index, Length: 3057, dtype: int64"
            ]
          },
          "metadata": {},
          "execution_count": 10
        }
      ],
      "source": [
        "le = LabelEncoder()\n",
        "data['problem_index'] = le.fit_transform(data['problemId'])\n",
        "data['problem_index']"
      ]
    },
    {
      "cell_type": "code",
      "execution_count": 11,
      "metadata": {
        "colab": {
          "base_uri": "https://localhost:8080/"
        },
        "id": "ux14ecKwvqUr",
        "outputId": "4f6fbd90-6afd-48c9-bba9-35d3c2eb485b"
      },
      "outputs": [
        {
          "output_type": "execute_result",
          "data": {
            "text/plain": [
              "63"
            ]
          },
          "metadata": {},
          "execution_count": 11
        }
      ],
      "source": [
        "num_skill = len(data['skill'].unique())\n",
        "num_skill"
      ]
    },
    {
      "cell_type": "code",
      "source": [
        "def convert_to_input_vector(qt, at, num_skills):\n",
        "  input_vector = np.zeros(2*num_skill)\n",
        "  output_vector = np.zeros(num_skill)\n",
        "\n",
        "  skill_index = qt\n",
        "  correct = at\n",
        "  # if num_skill<100:\n",
        "  if at:\n",
        "    answer_index = skill_index\n",
        "  else:\n",
        "    answer_index = num_skill + skill_index\n",
        "\n",
        "  input_vector[answer_index] = 1\n",
        "  output_vector[skill_index] = at  # else:\n",
        "  #     input_vector = np.random.normal(size=32)\n",
        "  return input_vector,output_vector"
      ],
      "metadata": {
        "id": "vYXNUlUyMb_H"
      },
      "execution_count": 12,
      "outputs": []
    },
    {
      "cell_type": "code",
      "execution_count": 13,
      "metadata": {
        "id": "nVluO9evqQIw"
      },
      "outputs": [],
      "source": [
        "if num_skill <= 102:\n",
        "    X = np.zeros((len(data), 2*num_skill))\n",
        "    Y = np.zeros((len(data), num_skill))\n",
        "    # for _, group in data.groupby('user_id'):\n",
        "    current_sequence=[]\n",
        "    for i, row in data.iterrows():\n",
        "        input_vector,output_vector = convert_to_input_vector(row['skill_index'], row['correct'], num_skill)\n",
        "        X[i]= input_vector\n",
        "        Y[i] = output_vector"
      ]
    },
    {
      "cell_type": "code",
      "execution_count": 14,
      "metadata": {
        "colab": {
          "base_uri": "https://localhost:8080/"
        },
        "id": "LMsizHFc18QO",
        "outputId": "b489f430-1240-429f-9830-bab527cf7550"
      },
      "outputs": [
        {
          "output_type": "execute_result",
          "data": {
            "text/plain": [
              "((3057, 126), (3057, 63))"
            ]
          },
          "metadata": {},
          "execution_count": 14
        }
      ],
      "source": [
        "X.shape, Y.shape"
      ]
    },
    {
      "cell_type": "code",
      "source": [
        "num_problems=len(data)\n",
        "num_problems"
      ],
      "metadata": {
        "colab": {
          "base_uri": "https://localhost:8080/"
        },
        "id": "plr0LFyD_zfE",
        "outputId": "42646add-f452-4c87-d4ab-1a7f8894c7c1"
      },
      "execution_count": 15,
      "outputs": [
        {
          "output_type": "execute_result",
          "data": {
            "text/plain": [
              "3057"
            ]
          },
          "metadata": {},
          "execution_count": 15
        }
      ]
    },
    {
      "cell_type": "code",
      "source": [
        "# from scipy.sparse import csr_matrix\n",
        "# X = csr_matrix(X)\n",
        "# X.shape"
      ],
      "metadata": {
        "colab": {
          "base_uri": "https://localhost:8080/"
        },
        "id": "SLbXtXmDaBEh",
        "outputId": "4c5decf6-5c6f-4a43-a72d-5549bc113094"
      },
      "execution_count": 77,
      "outputs": [
        {
          "output_type": "execute_result",
          "data": {
            "text/plain": [
              "(942816, 204)"
            ]
          },
          "metadata": {},
          "execution_count": 77
        }
      ]
    },
    {
      "cell_type": "code",
      "source": [
        "X_train, X_val, y_train, y_val = train_test_split(X, Y, test_size=0.2, random_state=42)\n",
        "X_train, X_test, y_train, y_test = train_test_split(X_train, y_train, test_size=0.1, random_state=42)\n"
      ],
      "metadata": {
        "id": "A-Fh0Dgjad6R"
      },
      "execution_count": 16,
      "outputs": []
    },
    {
      "cell_type": "code",
      "execution_count": 17,
      "metadata": {
        "id": "cCPvE0qOrA1c",
        "colab": {
          "base_uri": "https://localhost:8080/"
        },
        "outputId": "627bcdf8-151a-4235-ed23-28460a5cbe38"
      },
      "outputs": [
        {
          "output_type": "execute_result",
          "data": {
            "text/plain": [
              "((2200, 1, 63),\n",
              " (2200, 1, 126),\n",
              " (612, 1, 126),\n",
              " (612, 1, 63),\n",
              " (245, 1, 126),\n",
              " (245, 1, 63))"
            ]
          },
          "metadata": {},
          "execution_count": 17
        }
      ],
      "source": [
        "X_train=X_train.reshape((X_train.shape[0],1, X_train.shape[1]))\n",
        "y_train=y_train.reshape((y_train.shape[0],1, y_train.shape[1]))\n",
        "X_test=X_test.reshape((X_test.shape[0],1, X_test.shape[1]))\n",
        "y_test=y_test.reshape((y_test.shape[0],1, y_test.shape[1]))\n",
        "X_val=X_val.reshape((X_val.shape[0],1, X_val.shape[1]))\n",
        "y_val=y_val.reshape((y_val.shape[0],1, y_val.shape[1]))\n",
        "y_train.shape,X_train.shape,X_val.shape,y_val.shape,X_test.shape,y_test.shape"
      ]
    },
    {
      "cell_type": "code",
      "execution_count": 18,
      "metadata": {
        "id": "2a9YbP_ysR78"
      },
      "outputs": [],
      "source": [
        "inputs = Input(shape=(None, 2*num_skill))\n",
        "lstm1 = LSTM(200, return_sequences=True, activation=\"tanh\", dropout=0.25)(inputs)\n",
        "output = Dense(num_skill, activation='sigmoid')(lstm1)\n",
        "model = Model(inputs=inputs, outputs=output)"
      ]
    },
    {
      "cell_type": "code",
      "execution_count": 19,
      "metadata": {
        "id": "UV5Ch7tLsTaP"
      },
      "outputs": [],
      "source": [
        "epoch=5\n",
        "# lr = 0.001\n",
        "# adam = Adam(learning_rate=lr)\n",
        "\n",
        "# lr = 0.1\n",
        "# decay_rate = lr / epoch\n",
        "# momentum = 0.8\n",
        "# sgd = SGD(learning_rate=lr, momentum=momentum, decay=decay_rate, nesterov=False)\n",
        "\n",
        "model.compile(optimizer='rmsprop', loss='binary_crossentropy', metrics=['AUC'])"
      ]
    },
    {
      "cell_type": "code",
      "source": [
        "model.fit(X_train,y_train,batch_size=100, epochs=epoch, validation_data=(X_val, y_val),shuffle=True)"
      ],
      "metadata": {
        "colab": {
          "base_uri": "https://localhost:8080/"
        },
        "id": "pmHsrMBWDtmE",
        "outputId": "7278aac6-01da-4f85-9050-1879d4ed90ed"
      },
      "execution_count": 20,
      "outputs": [
        {
          "output_type": "stream",
          "name": "stdout",
          "text": [
            "Epoch 1/5\n",
            "22/22 [==============================] - 10s 54ms/step - loss: 0.6811 - auc: 0.4691 - val_loss: 0.6703 - val_auc: 0.4768\n",
            "Epoch 2/5\n",
            "22/22 [==============================] - 2s 97ms/step - loss: 0.6597 - auc: 0.4755 - val_loss: 0.6463 - val_auc: 0.4750\n",
            "Epoch 3/5\n",
            "22/22 [==============================] - 0s 6ms/step - loss: 0.6307 - auc: 0.4889 - val_loss: 0.6111 - val_auc: 0.5240\n",
            "Epoch 4/5\n",
            "22/22 [==============================] - 0s 6ms/step - loss: 0.5889 - auc: 0.5299 - val_loss: 0.5612 - val_auc: 0.5660\n",
            "Epoch 5/5\n",
            "22/22 [==============================] - 0s 7ms/step - loss: 0.5319 - auc: 0.5748 - val_loss: 0.4968 - val_auc: 0.6163\n"
          ]
        },
        {
          "output_type": "execute_result",
          "data": {
            "text/plain": [
              "<keras.callbacks.History at 0x7fcb1870e5f0>"
            ]
          },
          "metadata": {},
          "execution_count": 20
        }
      ]
    },
    {
      "cell_type": "code",
      "source": [
        "test_loss, test_auc = model.evaluate(X_test, y_test)\n",
        "print('Test AUC:', test_auc)"
      ],
      "metadata": {
        "id": "2ptMKvzunlVD",
        "colab": {
          "base_uri": "https://localhost:8080/"
        },
        "outputId": "a6e25140-3d37-4ddb-9c71-908ce506fcee"
      },
      "execution_count": 21,
      "outputs": [
        {
          "output_type": "stream",
          "name": "stdout",
          "text": [
            "8/8 [==============================] - 0s 4ms/step - loss: 0.4969 - auc: 0.5437\n",
            "Test AUC: 0.5436684489250183\n"
          ]
        }
      ]
    },
    {
      "cell_type": "code",
      "source": [
        "y_pred_test = model.predict(X_test)\n",
        "y_pred_test[80]"
      ],
      "metadata": {
        "colab": {
          "base_uri": "https://localhost:8080/"
        },
        "id": "AJ5I4QAeSgvC",
        "outputId": "620c3776-d0a8-48c5-8854-b6399a83156b"
      },
      "execution_count": 22,
      "outputs": [
        {
          "output_type": "stream",
          "name": "stdout",
          "text": [
            "8/8 [==============================] - 2s 169ms/step\n"
          ]
        },
        {
          "output_type": "execute_result",
          "data": {
            "text/plain": [
              "array([[0.39711553, 0.4121188 , 0.4168534 , 0.39878672, 0.40259534,\n",
              "        0.38489002, 0.39374176, 0.4034482 , 0.39665323, 0.39833516,\n",
              "        0.38787538, 0.4023595 , 0.39988506, 0.3964267 , 0.39474612,\n",
              "        0.41239575, 0.40164706, 0.39401397, 0.4216203 , 0.3870002 ,\n",
              "        0.42152604, 0.39826742, 0.40000117, 0.40528303, 0.38378692,\n",
              "        0.38618332, 0.4212324 , 0.38928345, 0.39986375, 0.3976049 ,\n",
              "        0.40567026, 0.4061266 , 0.406     , 0.39982194, 0.42087227,\n",
              "        0.4090816 , 0.39967242, 0.40582335, 0.38768712, 0.40882716,\n",
              "        0.40757105, 0.4063167 , 0.40316504, 0.39839053, 0.39793482,\n",
              "        0.39042604, 0.4129055 , 0.40779793, 0.39665172, 0.40651777,\n",
              "        0.39518648, 0.3935571 , 0.39947382, 0.4024148 , 0.40627506,\n",
              "        0.40315345, 0.4060458 , 0.40402314, 0.38821924, 0.409633  ,\n",
              "        0.40404987, 0.4005839 , 0.40033558]], dtype=float32)"
            ]
          },
          "metadata": {},
          "execution_count": 22
        }
      ]
    },
    {
      "cell_type": "code",
      "execution_count": 23,
      "metadata": {
        "id": "WB2OffyLx_cF"
      },
      "outputs": [],
      "source": [
        "model.save('dkt_model.h5')"
      ]
    },
    {
      "cell_type": "code",
      "source": [
        "# from keras.callbacks import LearningRateScheduler\n",
        "\n",
        "# lr_init = 1\n",
        "# lr_decay = 0.0001\n",
        "\n",
        "# def lr_schedule(epoch):\n",
        "#     print(lr_init * lr_decay ** epoch)\n",
        "#     return lr_init * lr_decay ** epoch\n",
        "\n",
        "\n",
        "\n",
        "# # opt = Adam(learning_rate=lr_init)\n",
        "# opt = SGD(learning_rate=lr_init)\n",
        "\n",
        "# model.compile(optimizer=opt, loss='binary_crossentropy', metrics=['accuracy'])\n",
        "\n",
        "# lr_scheduler = LearningRateScheduler(lr_schedule)\n",
        "\n",
        "# model.fit(X_train, y_train, batch_size=64, epochs=20, callbacks=[lr_scheduler])"
      ],
      "metadata": {
        "id": "K9zA8kkvOs50"
      },
      "execution_count": null,
      "outputs": []
    },
    {
      "cell_type": "code",
      "source": [
        "# from keras.callbacks import EarlyStopping\n",
        "\n",
        "# early_stop = EarlyStopping(monitor='val_accuracy', patience=10, mode='max', verbose=0, min_delta=0.0)\n",
        "\n",
        "# model.fit(X_train, y_train, batch_size=32, epochs=100,  validation_data=(X_val, y_val),shuffle=True, callbacks=[early_stop])"
      ],
      "metadata": {
        "id": "jh_EQjUXSWwr"
      },
      "execution_count": null,
      "outputs": []
    }
  ],
  "metadata": {
    "accelerator": "GPU",
    "colab": {
      "machine_shape": "hm",
      "provenance": [],
      "gpuType": "T4",
      "include_colab_link": true
    },
    "kernelspec": {
      "display_name": "Python 3",
      "name": "python3"
    },
    "language_info": {
      "name": "python"
    }
  },
  "nbformat": 4,
  "nbformat_minor": 0
}